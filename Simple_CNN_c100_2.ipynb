{
  "nbformat": 4,
  "nbformat_minor": 0,
  "metadata": {
    "colab": {
      "provenance": [],
      "gpuType": "T4",
      "mount_file_id": "1nniIuEvcqBmJYg5OXQkLl4xTEcmeIR03",
      "authorship_tag": "ABX9TyOPQJV5Mjs9GotONfvBNXT7",
      "include_colab_link": true
    },
    "kernelspec": {
      "name": "python3",
      "display_name": "Python 3"
    },
    "language_info": {
      "name": "python"
    },
    "accelerator": "GPU"
  },
  "cells": [
    {
      "cell_type": "markdown",
      "metadata": {
        "id": "view-in-github",
        "colab_type": "text"
      },
      "source": [
        "<a href=\"https://colab.research.google.com/github/skurakake/MMP_public/blob/main/Simple_CNN_c100_2.ipynb\" target=\"_parent\"><img src=\"https://colab.research.google.com/assets/colab-badge.svg\" alt=\"Open In Colab\"/></a>"
      ]
    },
    {
      "cell_type": "code",
      "source": [
        "import numpy as np\n",
        "import matplotlib.pyplot as plt\n",
        "import tensorflow as tf"
      ],
      "metadata": {
        "id": "vFTK4HuzZgqe"
      },
      "execution_count": 1,
      "outputs": []
    },
    {
      "cell_type": "code",
      "execution_count": 15,
      "metadata": {
        "id": "Rn7w4A27ScgU"
      },
      "outputs": [],
      "source": [
        "# cifar100 を使う\n",
        "from tensorflow.keras.datasets import cifar100\n",
        "\n",
        "(x_train, t_train), (x_test, t_test) = cifar100.load_data(label_mode='fine')\n",
        "\n",
        "\n",
        "CIFAR100_LABELS_LIST = [\n",
        "    'apple', 'aquarium_fish', 'baby', 'bear', 'beaver', 'bed', 'bee', 'beetle',\n",
        "    'bicycle', 'bottle', 'bowl', 'boy', 'bridge', 'bus', 'butterfly', 'camel',\n",
        "    'can', 'castle', 'caterpillar', 'cattle', 'chair', 'chimpanzee', 'clock',\n",
        "    'cloud', 'cockroach', 'couch', 'crab', 'crocodile', 'cup', 'dinosaur',\n",
        "    'dolphin', 'elephant', 'flatfish', 'forest', 'fox', 'girl', 'hamster',\n",
        "    'house', 'kangaroo', 'keyboard', 'lamp', 'lawn_mower', 'leopard', 'lion',\n",
        "    'lizard', 'lobster', 'man', 'maple_tree', 'motorcycle', 'mountain', 'mouse',\n",
        "    'mushroom', 'oak_tree', 'orange', 'orchid', 'otter', 'palm_tree', 'pear',\n",
        "    'pickup_truck', 'pine_tree', 'plain', 'plate', 'poppy', 'porcupine',\n",
        "    'possum', 'rabbit', 'raccoon', 'ray', 'road', 'rocket', 'rose',\n",
        "    'sea', 'seal', 'shark', 'shrew', 'skunk', 'skyscraper', 'snail', 'snake',\n",
        "    'spider', 'squirrel', 'streetcar', 'sunflower', 'sweet_pepper', 'table',\n",
        "    'tank', 'telephone', 'television', 'tiger', 'tractor', 'train', 'trout',\n",
        "    'tulip', 'turtle', 'wardrobe', 'whale', 'willow_tree', 'wolf', 'woman',\n",
        "    'worm'\n",
        "]\n",
        "\n",
        "num_category = 100 # クラス数"
      ]
    },
    {
      "cell_type": "code",
      "execution_count": null,
      "metadata": {
        "id": "jrhds3dGUucF"
      },
      "outputs": [],
      "source": [
        "# ダウンロードしたデータの一部をランダムに表示\n",
        "\n",
        "print('x_train shape:', x_train.shape)\n",
        "print('the number of train samples:', x_train.shape[0] )\n",
        "print('the number of test samples:', x_test.shape[0] )\n",
        "print(type(x_train[0]))\n",
        "\n",
        "print(x_train.shape, t_train.shape)\n",
        "print(x_test.shape, t_test.shape)\n",
        "print(type(x_test))\n",
        "print(type(t_test[0]))\n",
        "\n",
        "\n",
        "num_image = 20 # 表示数\n",
        "rand_idx = np.random.randint(0, len(x_train), num_image)\n",
        "plt.figure(figsize=(5, 5)) # 表示領域のサイズ\n",
        "# plt figure set to 5inch x 5inch(500pixel x 500 pixel).\n",
        "\n",
        "labels = CIFAR100_LABELS_LIST\n",
        "for i in range(num_image):\n",
        "    plt.subplot(4, 5, i + 1)\n",
        "    plt.imshow(x_train[rand_idx[i]])\n",
        "    plt.title(labels[t_train[rand_idx[i]][0]])\n",
        "    plt.tick_params(labelbottom=False, labelleft=False, bottom=False, left=False)\n",
        "\n",
        "plt.show() # 実行されたとき始めてウィンドウが立ち上がり、そのウィンドウに図が表示される\n",
        "# colab では plt.show() がなくても、環境が自動でウィンドウをオープンしてくれるが、\n",
        "# コマンドラインとかでは、これが必要"
      ]
    },
    {
      "cell_type": "code",
      "source": [
        "# 設定\n",
        "batch_size = 32 # ミニバッチサイズ\n",
        "epochs = 20 # エポック数\n",
        "num_class = 100 # クラス数\n",
        "\n",
        "# 正解データを one-hot 表現へ変換\n",
        "t_train_n = tf.keras.utils.to_categorical(t_train, num_class)\n",
        "t_test_n = tf.keras.utils.to_categorical(t_test, num_class)\n",
        "print(\"正解データ（学習）：\", t_train_n[:2])\n",
        "print(\"正解データ（テスト）：\", t_test_n[:2])"
      ],
      "metadata": {
        "id": "WtQQkefP64Kb"
      },
      "execution_count": null,
      "outputs": []
    },
    {
      "cell_type": "markdown",
      "source": [
        "モデルの構築"
      ],
      "metadata": {
        "id": "YFax4DRW8oBT"
      }
    },
    {
      "cell_type": "code",
      "source": [
        "from tensorflow.keras.models import Sequential\n",
        "from tensorflow.keras.layers import Input, Dense, Activation, Dropout, Flatten\n",
        "from tensorflow.keras.layers import Conv2D, MaxPooling2D\n",
        "from tensorflow.keras.layers import BatchNormalization, Resizing, Rescaling\n",
        "from tensorflow.keras.optimizers import Adam\n",
        "from tensorflow.keras.optimizers import SGD\n",
        "\n",
        "model = Sequential()\n",
        "\n",
        "model.add(Input(shape=x_train.shape[1:]))# .shape の2番目から最後までの要素 (32,32,3)\n",
        "#model.add(Resizing(32, 32))\n",
        "model.add(Rescaling(1./255))\n",
        "model.add(Conv2D(32,(3,3), strides=1,  padding = 'same')) #padding = 'same' 入力と同じサイズになるまで０パディング\n",
        "model.add(BatchNormalization())\n",
        "model.add(Activation('relu'))\n",
        "model.add(Conv2D(32,(3,3), strides=1,  padding = 'same')) #padding = 'same' 入力と同じサイズになるまで０パディング\n",
        "model.add(BatchNormalization())\n",
        "model.add(Activation('relu'))\n",
        "model.add(MaxPooling2D(pool_size=(2,2))) #, strides=2))\n",
        "\n",
        "model.add(Conv2D(64,(3,3), strides=1,  padding = 'same')) #padding = 'same' 入力と同じサイズになるまで０パディング\n",
        "model.add(BatchNormalization())\n",
        "model.add(Activation('relu'))\n",
        "model.add(Conv2D(64,(3,3), strides=1,  padding = 'same')) #padding = 'same' 入力と同じサイズになるまで０パディング\n",
        "model.add(BatchNormalization())\n",
        "model.add(Activation('relu'))\n",
        "model.add(MaxPooling2D(pool_size=(2,2))) #, strides=2))\n",
        "\n",
        "model.add(Flatten())\n",
        "model.add(Dense(256))\n",
        "model.add(Dropout(0.5))\n",
        "model.add(Dense(num_class))\n",
        "model.add(Activation('softmax'))\n",
        "\n",
        "model.compile(loss='categorical_crossentropy', optimizer=Adam(), metrics=['accuracy'])\n",
        "model.summary()\n"
      ],
      "metadata": {
        "id": "7HcOuFAG8r6a"
      },
      "execution_count": null,
      "outputs": []
    },
    {
      "cell_type": "markdown",
      "source": [
        "モデルを訓練する"
      ],
      "metadata": {
        "id": "Zya5voduRs-1"
      }
    },
    {
      "cell_type": "code",
      "source": [
        "history = model.fit(x_train, t_train_n, batch_size=batch_size,\n",
        "                    epochs=epochs, validation_data=(x_test, t_test_n))"
      ],
      "metadata": {
        "id": "tvYKxtMaCzL7"
      },
      "execution_count": null,
      "outputs": []
    },
    {
      "cell_type": "markdown",
      "source": [],
      "metadata": {
        "id": "--bUDlt9Dj9T"
      }
    },
    {
      "cell_type": "code",
      "source": [
        "# 学習の経過をグラフで表示\n",
        "import matplotlib.pyplot as plt\n",
        "train_loss = history.history['loss']\n",
        "train_accuracy = history.history['accuracy']\n",
        "validation_loss = history.history['val_loss']\n",
        "validation_accuracy = history.history['val_accuracy']\n",
        "\n",
        "plt.plot(np.arange(len(train_loss)), train_loss, label='training_loss')\n",
        "plt.plot(np.arange(len(validation_loss)), validation_loss, label='validation_loss')\n",
        "plt.title('Model loss')\n",
        "plt.ylabel('Loss')\n",
        "plt.xlabel('Epoch')\n",
        "plt.legend(['Train', 'Test'], loc='upper right')\n",
        "plt.show()\n",
        "\n",
        "plt.plot(np.arange(len(train_accuracy)), train_accuracy, label='training_accuracy')\n",
        "plt.plot(np.arange(len(validation_accuracy)), validation_accuracy, label='validation_accuracy')\n",
        "plt.title('Model Accuracy')\n",
        "plt.ylabel('Accuracy')\n",
        "plt.xlabel('Epoch')\n",
        "plt.legend(['Train', 'Test'], loc='upper left')\n",
        "plt.show()"
      ],
      "metadata": {
        "id": "FbneqHRDmSCl"
      },
      "execution_count": null,
      "outputs": []
    },
    {
      "cell_type": "markdown",
      "source": [
        "テストデータ全体に対して精度とlossを求める"
      ],
      "metadata": {
        "id": "yAuApX5eqJrf"
      }
    },
    {
      "cell_type": "code",
      "source": [
        "loss, accuracy = model.evaluate(x_test, t_test_n)\n",
        "print('Test loss:', loss)\n",
        "print('Test accuracy:', accuracy)"
      ],
      "metadata": {
        "id": "-QPUVJAxqot2"
      },
      "execution_count": null,
      "outputs": []
    },
    {
      "cell_type": "markdown",
      "source": [
        "学習済みのモデルを使って、テストデータの中からランダムに選択したデータに対して分類を行う。"
      ],
      "metadata": {
        "id": "KeHwLpCGq-1W"
      }
    },
    {
      "cell_type": "code",
      "execution_count": null,
      "metadata": {
        "id": "iVXSeah2sjvi"
      },
      "outputs": [],
      "source": [
        "num2_image = 20\n",
        "rand_idx2 = np.random.randint(0, len(x_test), num2_image)\n",
        "\n",
        "y_rand = model.predict(x_test[rand_idx2]) # テストデータからランダムに画像を選択して、画像分類を実行\n",
        "predicted_class = np.argmax(y_rand, axis=1) # 分類結果の中で最大値を取るインデックスを取得\n",
        "\n",
        "plt.figure(figsize=(16,16)) # 画像の表示サイズ\n",
        "\n",
        "for i in range(num2_image):\n",
        "    plt.subplot(4, 5, i + 1)\n",
        "    plt.imshow(x_test[rand_idx2[i]])\n",
        "    label = cifar10_labels[predicted_class[i]]\n",
        "    plt.title(label)\n",
        "    plt.xticks([])\n",
        "    plt.yticks([])\n",
        "    plt.grid(False)\n",
        "\n",
        "plt.show()\n"
      ]
    },
    {
      "cell_type": "markdown",
      "source": [
        "学習済みのモデルをgoogle drive に保存"
      ],
      "metadata": {
        "id": "i8heu0QwvZ0H"
      }
    },
    {
      "cell_type": "code",
      "source": [
        "from google.colab import drive\n",
        "drive.mount('/content/drive/')"
      ],
      "metadata": {
        "id": "vmmEnahH0Fgx"
      },
      "execution_count": null,
      "outputs": []
    },
    {
      "cell_type": "code",
      "source": [
        "import os\n",
        "from keras.models import load_model\n",
        "\n",
        "path = '/content/drive/MyDrive/Colab Notebooks/'\n",
        "\n",
        "if not os.path.exists(path):\n",
        "    os.makedirs(path)\n",
        "\n",
        "#\n",
        "model.save(path + \"model_simple_CNN_c100_2.keras\")"
      ],
      "metadata": {
        "id": "EUWr4BtAvipX"
      },
      "execution_count": null,
      "outputs": []
    }
  ]
}