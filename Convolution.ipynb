{
  "nbformat": 4,
  "nbformat_minor": 0,
  "metadata": {
    "colab": {
      "provenance": [],
      "authorship_tag": "ABX9TyOw5NW135dxMIWux4Zh7eIa",
      "include_colab_link": true
    },
    "kernelspec": {
      "name": "python3",
      "display_name": "Python 3"
    },
    "language_info": {
      "name": "python"
    }
  },
  "cells": [
    {
      "cell_type": "markdown",
      "metadata": {
        "id": "view-in-github",
        "colab_type": "text"
      },
      "source": [
        "<a href=\"https://colab.research.google.com/github/skurakake/MMP_public/blob/main/Convolution.ipynb\" target=\"_parent\"><img src=\"https://colab.research.google.com/assets/colab-badge.svg\" alt=\"Open In Colab\"/></a>"
      ]
    },
    {
      "cell_type": "code",
      "source": [
        "# 初期設定、cifar10 データのダウンロード\n",
        "import matplotlib.pyplot as plt\n",
        "import numpy as np\n",
        "import tensorflow as tf\n",
        "from tensorflow.keras.datasets import cifar10\n",
        "from tensorflow.keras.preprocessing.image import ImageDataGenerator\n",
        "\n",
        "(x_train, t_train), (x_test, t_test) = cifar10.load_data()\n",
        "print(\"Image size:\", x_train[0].shape)\n",
        "print(x_test[0].shape)\n",
        "\n",
        "# ラベルの設定\n",
        "cifar10_labels = np.array([\"airplane\", \"automobile\", \"bird\", \"cat\",\n",
        "                           \"deer\", \"dog\", \"frog\", \"horse\", \"ship\", \"truck\"])\n",
        "\n",
        "# num_image の個数だけ、ランダムに画僧を選んで表示\n",
        "num_image = 20\n",
        "rand_idx = np.random.randint(0, len(x_train), num_image)\n",
        "plt.figure(figsize=(16, 16))\n",
        "\n",
        "for i in range(num_image):\n",
        "    plt.subplot(4, 5, i + 1)\n",
        "    plt.imshow(x_train[rand_idx[i]])\n",
        "    plt.title(cifar10_labels[t_train[rand_idx[i]][0]])\n",
        "    plt.xticks([])\n",
        "    plt.yticks([])\n",
        "    plt.grid(False)\n",
        "\n",
        "plt.show()"
      ],
      "metadata": {
        "id": "dk6JN9TlULQj"
      },
      "execution_count": null,
      "outputs": []
    },
    {
      "cell_type": "code",
      "source": [
        "# 関数 img2col を定義　img の畳み込み処理対象の領域 kernel_height * kernel_width * chanel_no 分を\n",
        "# を1次元にして、col の各行へ格納\n",
        "def img2col(img, ker_h, ker_w, pad_h_value, pad_w_value, stride_h, stride_w, batch_size):\n",
        "\n",
        "    img_h, img_w, chanel_in = img.shape\n",
        "\n",
        "    pad_h = ker_h//2\n",
        "    pad_w = ker_w//2\n",
        "    out_h = (img_h - ker_h)// stride_h + 1 # out_h = (img_h - ker_h+2*pad_h)// stride_h + 1\n",
        "    out_w = (img_w - ker_w) // stride_w + 1 # out_w = (img_w - ker_w+2*pad_w) // stride_w + 1\n",
        "\n",
        "    # Add padding to the image if necessary\n",
        "    #img_padded = np.pad(img, ((pad_h, pad_h), (pad_w, pad_w), (pad_h_value, pad_h_value)), mode='constant')\n",
        "\n",
        "    # Calculate dimensions after padding\n",
        "   # img_h_padded, img_w_padded, _ = img_padded.shape\n",
        "\n",
        "    # Calculate the number of patches\n",
        "    num_patches = out_h * out_w # = img_h_padded * img_w_padded,\n",
        "\n",
        "    # Initialize the output array\n",
        "    out = np.zeros((ker_h * ker_w * chanel_in, num_patches * batch_size))\n",
        "    #out = np.zeros((ker_h * ker_w * chanel_no, img_h_padded * img_w_padded * batch_size))\n",
        "\n",
        "    patch_index = 0\n",
        "    for b in range(batch_size):\n",
        "        # for h in range(0, img_h_padded - ker_h + 1, stride_h):\n",
        "        #     for w in range(0, img_w_padded - ker_w + 1, stride_w):\n",
        "        for h in range(0, out_h, stride_h):\n",
        "            for w in range(0, out_w, stride_w):\n",
        "                # Extract the patch\n",
        "                #patch = img_padded[h:h + ker_h, w:w + ker_w, :]\n",
        "                patch = img[h:h + ker_h, w:w + ker_w, :]\n",
        "                # Flatten the patch and assign it to a column in the output array\n",
        "                out[:, patch_index] = patch.reshape(-1)\n",
        "                patch_index += 1\n",
        "\n",
        "    return out, out_h, out_w"
      ],
      "metadata": {
        "id": "9aSNunApOZRz"
      },
      "execution_count": 2,
      "outputs": []
    },
    {
      "cell_type": "code",
      "source": [
        "# 画像データの格納形式の違いを確認\n",
        "temp_image = np.array([[[1,2,3], [5,6,7],[8,9,10]],[[10,20,30], [50,60,70],[80,90,100]]])\n",
        "print(temp_image)\n",
        "print(temp_image.shape)\n",
        "# print(\"cifar10data:\", x_train[0])\n",
        "# print(\"cifar10data size:\", x_train[0].shape) # 画素のRBG値が最下層の点\n",
        "temp_image2 = np.array([[[1,10], [2,20], [3, 30]],[[5,50], [6,60],[7, 70]],[[8,80],[9,90],[10,100]]])\n",
        "print(temp_image2)\n",
        "print(temp_image2.shape)"
      ],
      "metadata": {
        "id": "j9E52snYFewA"
      },
      "execution_count": null,
      "outputs": []
    },
    {
      "cell_type": "code",
      "source": [
        "# kernel の設定\n",
        "\n",
        "\n",
        "\n",
        "stride_h=1\n",
        "stride_w = 1\n",
        "pad_h_value=0\n",
        "pad_w_value =0\n",
        "\n",
        "# kernel の設定\n",
        "ker_1 = np.array([[-1,2,-1],\n",
        "                 [-1,2,-1],\n",
        "                 [-1,2,-1]])\n",
        "ker_2 = np.array([[-1,2,-1],\n",
        "                 [-1,2,-1],\n",
        "                 [-1,2,-1]])\n",
        "ker_3 = np.array([[-1,2,-1],\n",
        "                 [-1,2,-1],\n",
        "                 [-1,2,-1]])\n",
        "\n",
        "ker_h, ker_w = ker_1.shape\n",
        "\n",
        "all_kernel = np.stack((ker_1, ker_2, ker_3), axis=2)\n",
        "print(all_kernel.shape)\n",
        "print(all_kernel)\n",
        "\n",
        "all_kernel = np.array(all_kernel).reshape(-1)\n",
        "print(all_kernel)\n"
      ],
      "metadata": {
        "id": "mESbL279ST_b"
      },
      "execution_count": null,
      "outputs": []
    },
    {
      "cell_type": "code",
      "source": [
        "# num_image で指定された個数だけ、ランダムに選ばれた画像に対して畳み込み処理をおこなって表示する。\n",
        "num_image = 10\n",
        "rand_idx = np.random.randint(0, len(x_train), num_image)\n",
        "\n",
        "plt.figure(\n",
        "    figsize=(4, 35),\n",
        "    dpi = 200,\n",
        "    facecolor = \"lightblue\",\n",
        "    )\n",
        "\n",
        "batch_size = 1\n",
        "\n",
        "for i in range(num_image):\n",
        "    plt.subplot(2*num_image, 2, 2*i + 1)\n",
        "    image = x_train[rand_idx[i]]\n",
        "    plt.imshow(image)\n",
        "    plt.title(cifar10_labels[t_train[rand_idx[i]][0]])\n",
        "    plt.xticks([])\n",
        "    plt.yticks([])\n",
        "    plt.grid(False)\n",
        "    #image = x_train[rand_idx[i]]\n",
        "\n",
        "    cols, out_h, out_w = img2col(image, ker_h, ker_w, pad_h_value, pad_w_value, stride_h, stride_w, batch_size)\n",
        "    image_out = np.dot(all_kernel, cols) # 行列の積。これで畳み込みの計算が全て行われる。\n",
        "    image_out = image_out.reshape(out_h, out_w)\n",
        "\n",
        "    # Normalize the output values to the range [0, 255] before converting to uint8\n",
        "    image_float32 = image_out.astype(np.float32)\n",
        "    normalized_image_out = (image_float32 - np.min(image_float32)) / (np.max(image_float32) - np.min(image_float32)) * 255\n",
        "    normalized_image_out = normalized_image_out.astype(np.uint8) # Convert to uint8 for displaying images\n",
        "\n",
        "    plt.subplot(2*num_image, 2, 2*i + 2)\n",
        "    plt.imshow(normalized_image_out, cmap='gray') # Use gray colormap for single channel output\n",
        "    plt.title(cifar10_labels[t_train[rand_idx[i]][0]])\n",
        "    plt.xticks([])\n",
        "    plt.yticks([])\n",
        "    plt.grid(False)\n",
        "\n",
        "plt.show()"
      ],
      "metadata": {
        "id": "9tbrNAIVWA_T"
      },
      "execution_count": null,
      "outputs": []
    }
  ]
}